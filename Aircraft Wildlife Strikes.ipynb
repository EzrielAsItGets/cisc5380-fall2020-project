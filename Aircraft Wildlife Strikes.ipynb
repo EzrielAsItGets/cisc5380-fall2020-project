{
  "nbformat": 4,
  "nbformat_minor": 0,
  "metadata": {
    "kernelspec": {
      "display_name": "Python 3",
      "language": "python",
      "name": "python3"
    },
    "language_info": {
      "codemirror_mode": {
        "name": "ipython",
        "version": 3
      },
      "file_extension": ".py",
      "mimetype": "text/x-python",
      "name": "python",
      "nbconvert_exporter": "python",
      "pygments_lexer": "ipython3",
      "version": "3.7.9"
    },
    "toc": {
      "base_numbering": 1,
      "nav_menu": {},
      "number_sections": true,
      "sideBar": true,
      "skip_h1_title": false,
      "title_cell": "Table of Contents",
      "title_sidebar": "Contents",
      "toc_cell": false,
      "toc_position": {
        "height": "calc(100% - 180px)",
        "left": "10px",
        "top": "150px",
        "width": "255.594px"
      },
      "toc_section_display": true,
      "toc_window_display": true
    },
    "colab": {
      "name": "Aircraft Wildlife Strikes.ipynb",
      "provenance": [],
      "toc_visible": true
    }
  },
  "cells": [
    {
      "cell_type": "markdown",
      "metadata": {
        "id": "wKQdDGRqSIg6"
      },
      "source": [
        "# Abstract\n",
        "As humanity takes to the heavens in their fancy metal aircrafts, the amount of wildlife collisions in the skies increase yearly in the United States and elsewhere. Expanding wildlife populations, increases in number of aircraft movements, a trend toward faster and quieter aircraft, and outreach to the aviation community all have contributed to the observed increase in reported wildlife strikes. As a result of the increase in wildlife strikes, there has been greater emphasis on wildlife strike hazard research and airfield wildlife management.\n",
        "\n",
        "Using the Aircraft Wildlife Strikes data set from Kaggle, this notebook aims to visualize these incidents and predict when and where these incidents are likely to occur."
      ]
    },
    {
      "cell_type": "markdown",
      "metadata": {
        "id": "uSCSl6XPSIg7"
      },
      "source": [
        "## Imports"
      ]
    },
    {
      "cell_type": "code",
      "metadata": {
        "scrolled": false,
        "id": "KdhbMZzvSIg7",
        "outputId": "6bb8de98-01d7-4bc3-98fb-d06b7d88de11"
      },
      "source": [
        "# Data manipulation\n",
        "import pandas as pd\n",
        "import numpy as np\n",
        "\n",
        "# Options for pandas\n",
        "pd.options.display.max_columns = 50\n",
        "pd.options.display.max_rows = 30\n",
        "\n",
        "# Display all cell outputs\n",
        "from IPython.core.interactiveshell import InteractiveShell\n",
        "InteractiveShell.ast_node_interactivity = 'all'\n",
        "\n",
        "from IPython import get_ipython\n",
        "ipython = get_ipython()\n",
        "\n",
        "# Autoreload extension\n",
        "if 'autoreload' not in ipython.extension_manager.loaded:\n",
        "    %load_ext autoreload\n",
        "\n",
        "%autoreload 2\n",
        "\n",
        "# Visualizations\n",
        "import plotly.express as px\n",
        "import plotly.graph_objects as go\n",
        "import plotly.figure_factory as ff\n",
        "from plotly.colors import n_colors\n",
        "from plotly.subplots import make_subplots\n",
        "from plotly.offline import iplot, init_notebook_mode\n",
        "init_notebook_mode(connected=True)\n",
        "\n",
        "import cufflinks as cf\n",
        "cf.go_offline(connected=True)\n",
        "cf.set_config_file(theme='white')"
      ],
      "execution_count": null,
      "outputs": [
        {
          "output_type": "display_data",
          "data": {
            "text/html": [
              "        <script type=\"text/javascript\">\n",
              "        window.PlotlyConfig = {MathJaxConfig: 'local'};\n",
              "        if (window.MathJax) {MathJax.Hub.Config({SVG: {font: \"STIX-Web\"}});}\n",
              "        if (typeof require !== 'undefined') {\n",
              "        require.undef(\"plotly\");\n",
              "        requirejs.config({\n",
              "            paths: {\n",
              "                'plotly': ['https://cdn.plot.ly/plotly-latest.min']\n",
              "            }\n",
              "        });\n",
              "        require(['plotly'], function(Plotly) {\n",
              "            window._Plotly = Plotly;\n",
              "        });\n",
              "        }\n",
              "        </script>\n",
              "        "
            ]
          },
          "metadata": {
            "tags": []
          }
        },
        {
          "output_type": "display_data",
          "data": {
            "text/html": [
              "        <script type=\"text/javascript\">\n",
              "        window.PlotlyConfig = {MathJaxConfig: 'local'};\n",
              "        if (window.MathJax) {MathJax.Hub.Config({SVG: {font: \"STIX-Web\"}});}\n",
              "        if (typeof require !== 'undefined') {\n",
              "        require.undef(\"plotly\");\n",
              "        requirejs.config({\n",
              "            paths: {\n",
              "                'plotly': ['https://cdn.plot.ly/plotly-latest.min']\n",
              "            }\n",
              "        });\n",
              "        require(['plotly'], function(Plotly) {\n",
              "            window._Plotly = Plotly;\n",
              "        });\n",
              "        }\n",
              "        </script>\n",
              "        "
            ]
          },
          "metadata": {
            "tags": []
          }
        }
      ]
    },
    {
      "cell_type": "markdown",
      "metadata": {
        "id": "3Jz8pTPYSIg-"
      },
      "source": [
        "## Data Cleaning"
      ]
    },
    {
      "cell_type": "code",
      "metadata": {
        "scrolled": false,
        "id": "nQu7qFWESIg_",
        "outputId": "f49ae14f-1514-4a45-b1ec-ea77aa718058"
      },
      "source": [
        "# Data import\n",
        "aws = pd.read_csv('./data/AWSData_Cleaned.csv')\n",
        "\n",
        "# Data cleaning"
      ],
      "execution_count": null,
      "outputs": [
        {
          "output_type": "stream",
          "text": [
            "C:\\Users\\Ezriel\\anaconda3\\lib\\site-packages\\IPython\\core\\interactiveshell.py:3146: DtypeWarning:\n",
            "\n",
            "Columns (16) have mixed types.Specify dtype option on import or set low_memory=False.\n",
            "\n"
          ],
          "name": "stderr"
        }
      ]
    },
    {
      "cell_type": "markdown",
      "metadata": {
        "id": "cc8AvyPISIhB"
      },
      "source": [
        "## Feature Engineering"
      ]
    },
    {
      "cell_type": "code",
      "metadata": {
        "id": "WMian4EkSIhC"
      },
      "source": [
        ""
      ],
      "execution_count": null,
      "outputs": []
    },
    {
      "cell_type": "markdown",
      "metadata": {
        "id": "lKdMW2B8SIhE"
      },
      "source": [
        "# Analysis/Modeling\n"
      ]
    },
    {
      "cell_type": "code",
      "metadata": {
        "id": "P7VjIg4cSIhF"
      },
      "source": [
        "# Functions\n",
        "\n"
      ],
      "execution_count": null,
      "outputs": []
    },
    {
      "cell_type": "markdown",
      "metadata": {
        "id": "Q2rm4dgISIhH"
      },
      "source": [
        "## Initial Analysis"
      ]
    },
    {
      "cell_type": "code",
      "metadata": {
        "id": "VjQzq_BkSIhH"
      },
      "source": [
        ""
      ],
      "execution_count": null,
      "outputs": []
    },
    {
      "cell_type": "markdown",
      "metadata": {
        "id": "c06cr5NuSIhJ"
      },
      "source": [
        "### Observation\n",
        "Placeholder"
      ]
    },
    {
      "cell_type": "markdown",
      "metadata": {
        "id": "M3jRPEqoSIhJ"
      },
      "source": [
        "## Placeholder Title"
      ]
    },
    {
      "cell_type": "code",
      "metadata": {
        "id": "I7ayrhAkSIhJ"
      },
      "source": [
        ""
      ],
      "execution_count": null,
      "outputs": []
    },
    {
      "cell_type": "markdown",
      "metadata": {
        "id": "VJtvtcy4SIhL"
      },
      "source": [
        "### Observation\n",
        "Placeholder"
      ]
    },
    {
      "cell_type": "markdown",
      "metadata": {
        "id": "X-pbVJDMSIhM"
      },
      "source": [
        "## Placeholder Title"
      ]
    },
    {
      "cell_type": "code",
      "metadata": {
        "id": "rraExKmFSIhM"
      },
      "source": [
        ""
      ],
      "execution_count": null,
      "outputs": []
    },
    {
      "cell_type": "code",
      "metadata": {
        "id": "_ZjwVwLKSIhO"
      },
      "source": [
        ""
      ],
      "execution_count": null,
      "outputs": []
    },
    {
      "cell_type": "code",
      "metadata": {
        "id": "-2SO8u0SSIhQ"
      },
      "source": [
        ""
      ],
      "execution_count": null,
      "outputs": []
    },
    {
      "cell_type": "code",
      "metadata": {
        "id": "aOPSXy2mSIhR"
      },
      "source": [
        ""
      ],
      "execution_count": null,
      "outputs": []
    },
    {
      "cell_type": "code",
      "metadata": {
        "id": "0LLkB0xSSIhT"
      },
      "source": [
        ""
      ],
      "execution_count": null,
      "outputs": []
    },
    {
      "cell_type": "code",
      "metadata": {
        "id": "9hQJdJKPSIhV"
      },
      "source": [
        ""
      ],
      "execution_count": null,
      "outputs": []
    },
    {
      "cell_type": "code",
      "metadata": {
        "scrolled": false,
        "id": "-vFkUqInSIhX"
      },
      "source": [
        ""
      ],
      "execution_count": null,
      "outputs": []
    },
    {
      "cell_type": "markdown",
      "metadata": {
        "id": "Y5pOcpisSIhY"
      },
      "source": [
        "### Observation\n",
        "Placeholder"
      ]
    },
    {
      "cell_type": "markdown",
      "metadata": {
        "id": "CnUcr_RYSIhZ"
      },
      "source": [
        "## Placeholder Title"
      ]
    },
    {
      "cell_type": "code",
      "metadata": {
        "scrolled": false,
        "id": "bRNcs0_JSIhZ"
      },
      "source": [
        ""
      ],
      "execution_count": null,
      "outputs": []
    },
    {
      "cell_type": "markdown",
      "metadata": {
        "id": "EF7KXJxKSIha"
      },
      "source": [
        "### Observation\n",
        "Placeholder"
      ]
    },
    {
      "cell_type": "markdown",
      "metadata": {
        "id": "kU8FqcXPSIhb"
      },
      "source": [
        "# Conclusions"
      ]
    },
    {
      "cell_type": "markdown",
      "metadata": {
        "id": "v-seupCbSIhb"
      },
      "source": [
        "Placeholder"
      ]
    },
    {
      "cell_type": "markdown",
      "metadata": {
        "id": "wYLLjl3PSIhb"
      },
      "source": [
        "# Sources\n",
        "AWSData_Cleaned.csv : https://www.kaggle.com/faa/wildlife-strikes"
      ]
    },
    {
      "cell_type": "code",
      "metadata": {
        "id": "nDFpmWO8SIhc"
      },
      "source": [
        ""
      ],
      "execution_count": null,
      "outputs": []
    }
  ]
}